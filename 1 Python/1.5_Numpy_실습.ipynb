{
  "cells": [
    {
      "cell_type": "markdown",
      "metadata": {
        "id": "3T16HUTT4DR5"
      },
      "source": [
        "###**1.5 넘파이**"
      ]
    },
    {
      "cell_type": "markdown",
      "metadata": {
        "id": "DAHZQYtd33_S"
      },
      "source": [
        "**1.5.1 넘파이 가져오기**"
      ]
    },
    {
      "cell_type": "code",
      "execution_count": 1,
      "metadata": {
        "id": "EL8wclBf3RYY"
      },
      "outputs": [],
      "source": [
        "import numpy as np"
      ]
    },
    {
      "cell_type": "markdown",
      "metadata": {
        "id": "pGOmJj6f39pk"
      },
      "source": [
        "**1.5.2 넘파이 배열 생성하기**"
      ]
    },
    {
      "cell_type": "code",
      "execution_count": 2,
      "metadata": {
        "colab": {
          "base_uri": "https://localhost:8080/"
        },
        "id": "o4_BrIjg380E",
        "outputId": "9bdf3dea-53b7-49aa-8082-a08e7a584698"
      },
      "outputs": [
        {
          "name": "stdout",
          "output_type": "stream",
          "text": [
            "[1. 2. 3.] <class 'numpy.ndarray'>\n"
          ]
        }
      ],
      "source": [
        "x = np.array([1.0, 2.0, 3.0])\n",
        "\n",
        "print(x, type(x))"
      ]
    },
    {
      "cell_type": "markdown",
      "metadata": {
        "id": "JvxXOp2H4TuY"
      },
      "source": [
        "**1.5.3 넘파이의 산술 연산**"
      ]
    },
    {
      "cell_type": "code",
      "execution_count": 3,
      "metadata": {
        "colab": {
          "base_uri": "https://localhost:8080/"
        },
        "id": "cBjKF8cc4SqJ",
        "outputId": "50272ae2-29af-4fca-f078-c71c5a8922fc"
      },
      "outputs": [
        {
          "name": "stdout",
          "output_type": "stream",
          "text": [
            "[3. 6. 9.]\n",
            "[-1. -2. -3.]\n",
            "[ 2.  8. 18.]\n",
            "[0.5 0.5 0.5]\n"
          ]
        }
      ],
      "source": [
        "x = np.array([1.0, 2.0, 3.0])\n",
        "y = np.array([2.0, 4.0, 6.0])\n",
        "\n",
        "print(x + y) # 원소별 덧셈\n",
        "print(x - y)\n",
        "print(x * y) # 원소별 곱셈(element-wise product)\n",
        "print(x / y)"
      ]
    },
    {
      "cell_type": "code",
      "execution_count": 4,
      "metadata": {
        "colab": {
          "base_uri": "https://localhost:8080/"
        },
        "id": "fu3X2s7w4maM",
        "outputId": "6f2b411d-9ec7-4e57-d82c-c4fbcbaad402"
      },
      "outputs": [
        {
          "name": "stdout",
          "output_type": "stream",
          "text": [
            "[0.05 0.1  0.15]\n"
          ]
        }
      ],
      "source": [
        "x = np.array([1.0, 2.0, 3.0])\n",
        "\n",
        "print(x / 20)"
      ]
    },
    {
      "cell_type": "markdown",
      "metadata": {
        "id": "FPXziWk_5aLd"
      },
      "source": [
        "**1.5.4 넘파이의 N차원 배열**"
      ]
    },
    {
      "cell_type": "code",
      "execution_count": 6,
      "metadata": {
        "colab": {
          "base_uri": "https://localhost:8080/"
        },
        "id": "u2DGuKTr5Z5J",
        "outputId": "c9f8fdc3-dbf6-4434-a304-ec977e4c7edf"
      },
      "outputs": [
        {
          "name": "stdout",
          "output_type": "stream",
          "text": [
            "[[1 2]\n",
            " [3 4]]\n",
            "(2, 2)\n",
            "int64\n"
          ]
        }
      ],
      "source": [
        "A = np.array([[1, 2], [3, 4]])\n",
        "\n",
        "print(A)\n",
        "print(A.shape)\n",
        "print(A.dtype)"
      ]
    },
    {
      "cell_type": "code",
      "execution_count": 7,
      "metadata": {
        "colab": {
          "base_uri": "https://localhost:8080/"
        },
        "id": "zQH5LqvC5Yp0",
        "outputId": "1beabffb-e172-43e5-f813-e4c1de71261f"
      },
      "outputs": [
        {
          "name": "stdout",
          "output_type": "stream",
          "text": [
            "[[ 4  2]\n",
            " [ 3 10]]\n",
            "[[ 3  0]\n",
            " [ 0 24]]\n"
          ]
        }
      ],
      "source": [
        "B = np.array([[3, 0], [0, 6]])\n",
        "\n",
        "print(A + B)\n",
        "print(A * B)"
      ]
    },
    {
      "cell_type": "code",
      "execution_count": 8,
      "metadata": {
        "colab": {
          "base_uri": "https://localhost:8080/"
        },
        "id": "8mN5TbeC505S",
        "outputId": "3ee55f77-0fdc-4a59-f380-9dd6b1e58185"
      },
      "outputs": [
        {
          "name": "stdout",
          "output_type": "stream",
          "text": [
            "[[1 2]\n",
            " [3 4]]\n",
            "[[10 20]\n",
            " [30 40]]\n"
          ]
        }
      ],
      "source": [
        "print(A)\n",
        "print(A * 10)"
      ]
    },
    {
      "cell_type": "markdown",
      "metadata": {
        "id": "u8eiV-oL5-At"
      },
      "source": [
        "**1.5.5 브로드캐스트**\n",
        "- shape이 다른 넘파이 배열끼리의 연산을 도와주는 기능"
      ]
    },
    {
      "cell_type": "code",
      "execution_count": 9,
      "metadata": {
        "colab": {
          "base_uri": "https://localhost:8080/"
        },
        "id": "-j0BVZhO59Mr",
        "outputId": "54f5ad71-8102-47a3-ed6c-8745f8f82b4e"
      },
      "outputs": [
        {
          "name": "stdout",
          "output_type": "stream",
          "text": [
            "[[10 40]\n",
            " [30 80]]\n"
          ]
        }
      ],
      "source": [
        "A = np.array([[1, 2], [3, 4]])\n",
        "B = np.array([10, 20])\n",
        "\n",
        "print(A * B) # B를 [[10, 20], [10, 20]]으로 변환 후 계산"
      ]
    },
    {
      "cell_type": "markdown",
      "metadata": {
        "id": "cFu4eIeM7D2H"
      },
      "source": [
        "**1.5.6 원소 접근**"
      ]
    },
    {
      "cell_type": "code",
      "execution_count": 10,
      "metadata": {
        "colab": {
          "base_uri": "https://localhost:8080/"
        },
        "id": "f75_Oi4m6qxB",
        "outputId": "f78533af-9c00-4594-a26e-5ecfeafa08a3"
      },
      "outputs": [
        {
          "name": "stdout",
          "output_type": "stream",
          "text": [
            "[[51 55]\n",
            " [14 19]\n",
            " [ 0  4]]\n",
            "[51 55]\n",
            "55\n"
          ]
        }
      ],
      "source": [
        "X = np.array([[51, 55], [14, 19], [0, 4]])\n",
        "\n",
        "print(X)\n",
        "print(X[0]) # 0행\n",
        "print(X[0][1]) # (0, 1) 위치의 원소"
      ]
    },
    {
      "cell_type": "code",
      "execution_count": 11,
      "metadata": {
        "colab": {
          "base_uri": "https://localhost:8080/"
        },
        "id": "M1nWEprs7TkC",
        "outputId": "026a77b1-e42b-499e-c58d-37cfb0eea864"
      },
      "outputs": [
        {
          "name": "stdout",
          "output_type": "stream",
          "text": [
            "[51 55]\n",
            "[14 19]\n",
            "[0 4]\n"
          ]
        }
      ],
      "source": [
        "for row in X:\n",
        "    print(row)"
      ]
    },
    {
      "cell_type": "code",
      "execution_count": 12,
      "metadata": {
        "colab": {
          "base_uri": "https://localhost:8080/"
        },
        "id": "SyomPd-y7nqo",
        "outputId": "04aa4383-53e9-405a-a480-4b3144dfbb57"
      },
      "outputs": [
        {
          "name": "stdout",
          "output_type": "stream",
          "text": [
            "[51 55 14 19  0  4]\n",
            "[51 14  0]\n"
          ]
        }
      ],
      "source": [
        "X = X.flatten() # X를 1차원 배열로 변환(평탄화)\n",
        "\n",
        "print(X)\n",
        "print(X[np.array([0, 2, 4])]) # 인덱스가 0, 2, 4인 원소 얻기"
      ]
    },
    {
      "cell_type": "code",
      "execution_count": 13,
      "metadata": {
        "colab": {
          "base_uri": "https://localhost:8080/"
        },
        "id": "TeG7Lg0-737n",
        "outputId": "ebbaf168-eca0-47f2-a09f-dbf84292845e"
      },
      "outputs": [
        {
          "name": "stdout",
          "output_type": "stream",
          "text": [
            "[ True  True False  True False False]\n",
            "[51 55 19]\n"
          ]
        }
      ],
      "source": [
        "print(X > 15)\n",
        "print(X[X > 15])"
      ]
    }
  ],
  "metadata": {
    "colab": {
      "provenance": []
    },
    "kernelspec": {
      "display_name": "Python 3",
      "name": "python3"
    },
    "language_info": {
      "name": "python"
    }
  },
  "nbformat": 4,
  "nbformat_minor": 0
}
